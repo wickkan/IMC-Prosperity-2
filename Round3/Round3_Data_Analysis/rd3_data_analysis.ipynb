{
 "cells": [
  {
   "cell_type": "code",
   "execution_count": null,
   "metadata": {},
   "outputs": [],
   "source": [
    "import pandas as pd\n",
    "prices_day_0 = pd.read_csv('prices_round_3_day_0.csv', delimiter=';')\n",
    "prices_day_1 = pd.read_csv('prices_round_3_day_1.csv', delimiter=';')\n",
    "prices_day_2 = pd.read_csv('prices_round_3_day_2.csv', delimiter=';')\n",
    "trades_day_0 = pd.read_csv('trades_round_3_day_0_nn.csv', delimiter=';')\n",
    "trades_day_1 = pd.read_csv('trades_round_3_day_1_nn.csv', delimiter=';')\n",
    "trades_day_2 = pd.read_csv('trades_round_3_day_2_nn.csv', delimiter=';')\n"
   ]
  },
  {
   "cell_type": "code",
   "execution_count": null,
   "metadata": {},
   "outputs": [],
   "source": [
    "## Display the first few rows of each dataset\n",
    "print(\"Prices Day 0:\")\n",
    "print(prices_day_0.head())\n",
    "print(\"\\nPrices Day 1:\")\n",
    "print(prices_day_1.head())\n",
    "print(\"\\nPrices Day 2:\")\n",
    "print(prices_day_2.head())\n",
    "print(\"\\nTrades Day 0:\")\n",
    "print(trades_day_0.head())\n",
    "print(\"\\nTrades Day 1:\")\n",
    "print(trades_day_1.head())\n",
    "print(\"\\nTrades Day 2:\")\n",
    "print(trades_day_2.head())\n",
    "\n",
    "# Summary statistics for each dataset\n",
    "print(\"Summary of Prices Day 0:\")\n",
    "print(prices_day_0.describe())\n",
    "print(\"\\nSummary of Trades Day 0:\")\n",
    "print(trades_day_0.describe())\n"
   ]
  },
  {
   "cell_type": "code",
   "execution_count": null,
   "metadata": {},
   "outputs": [],
   "source": [
    "# Check for missing values\n",
    "print(\"Missing values in Prices Day 0:\")\n",
    "print(prices_day_0.isnull().sum())\n",
    "print(\"\\nMissing values in Trades Day 0:\")\n",
    "print(trades_day_0.isnull().sum())\n",
    "\n",
    "# Check for duplicates\n",
    "print(\"Duplicates in Prices Day 0:\")\n",
    "print(prices_day_0.duplicated().sum())\n",
    "print(\"\\nDuplicates in Trades Day 0:\")\n",
    "print(trades_day_0.duplicated().sum())\n"
   ]
  },
  {
   "cell_type": "code",
   "execution_count": null,
   "metadata": {},
   "outputs": [],
   "source": [
    "import matplotlib.pyplot as plt\n",
    "\n",
    "# Function to plot price trends\n",
    "def plot_price_trends(data, product_name):\n",
    "    filtered_data = data[data['product'] == product_name]\n",
    "    plt.figure(figsize=(14, 7))\n",
    "    plt.plot(filtered_data['timestamp'], filtered_data['mid_price'], label=f'Mid Price of {product_name}')\n",
    "    plt.title(f'Price Trend for {product_name}')\n",
    "    plt.xlabel('Timestamp')\n",
    "    plt.ylabel('Mid Price')\n",
    "    plt.legend()\n",
    "    plt.show()\n",
    "\n",
    "# Call this function for each product\n",
    "plot_price_trends(prices_day_0, 'CHOCOLATE')\n",
    "plot_price_trends(prices_day_0, 'STRAWBERRIES')\n",
    "plot_price_trends(prices_day_0, 'ROSES')\n",
    "plot_price_trends(prices_day_0, 'GIFT_BASKET')\n"
   ]
  },
  {
   "cell_type": "code",
   "execution_count": null,
   "metadata": {},
   "outputs": [],
   "source": [
    "# Example of calculating correlations between product prices\n",
    "prices_day_0['CHOCOLATE_price'] = prices_day_0[prices_day_0['product'] == 'CHOCOLATE']['mid_price']\n",
    "prices_day_0['STRAWBERRIES_price'] = prices_day_0[prices_day_0['product'] == 'STRAWBERRIES']['mid_price']\n",
    "prices_day_0['ROSES_price'] = prices_day_0[prices_day_0['product'] == 'ROSES']['mid_price']\n",
    "prices_day_0['GIFT_BASKET_price'] = prices_day_0[prices_day_0['product'] == 'GIFT_BASKET']['mid_price']\n",
    "\n",
    "print(prices_day_0[['CHOCOLATE_price', 'STRAWBERRIES_price', 'ROSES_price', 'GIFT_BASKET_price']].corr())\n"
   ]
  },
  {
   "cell_type": "code",
   "execution_count": null,
   "metadata": {},
   "outputs": [],
   "source": [
    "# Summary statistics of trade volumes for each product\n",
    "print(\"Trade Volume Stats for CHOCOLATE:\")\n",
    "print(trades_day_0[trades_day_0['symbol'] == 'CHOCOLATE']['quantity'].describe())\n",
    "print(\"Trade Volume Stats for STRAWBERRIES:\")\n",
    "print(trades_day_0[trades_day_0['symbol'] == 'STRAWBERRIES']['quantity'].describe())\n",
    "print(\"Trade Volume Stats for ROSES:\")\n",
    "print(trades_day_0[trades_day_0['symbol'] == 'ROSES']['quantity'].describe())\n",
    "print(\"Trade Volume Stats for GIFT_BASKET:\")\n",
    "print(trades_day_0[trades_day_0['symbol'] == 'GIFT_BASKET']['quantity'].describe())\n"
   ]
  },
  {
   "cell_type": "code",
   "execution_count": null,
   "metadata": {},
   "outputs": [],
   "source": [
    "# Create a DataFrame with just the necessary columns\n",
    "data = prices_day_0.pivot(index='timestamp', columns='product', values='mid_price')\n",
    "\n",
    "# Drop rows with any NaN values to align data\n",
    "data.dropna(inplace=True)\n",
    "\n",
    "# Function to compute cross-correlation between two time series\n",
    "def cross_correlation(series1, series2, lag=10):  # Adjust 'lag' to your specific dataset's needs\n",
    "    correlation = [series1.corr(series2.shift(i)) for i in range(-lag, lag+1)]\n",
    "    return correlation\n",
    "\n",
    "# Calculate cross-correlation\n",
    "lag_range = 10  # or any other value that seems appropriate based on your data's frequency\n",
    "chocolate_cc = cross_correlation(data['GIFT_BASKET'], data['CHOCOLATE'], lag=lag_range)\n",
    "strawberries_cc = cross_correlation(data['GIFT_BASKET'], data['STRAWBERRIES'], lag=lag_range)\n",
    "roses_cc = cross_correlation(data['GIFT_BASKET'], data['ROSES'], lag=lag_range)\n",
    "\n",
    "# Plotting cross-correlation results\n",
    "\n",
    "lags = range(-lag_range, lag_range + 1)\n",
    "plt.figure(figsize=(12, 8))\n",
    "plt.plot(lags, chocolate_cc, label='CHOCOLATE')\n",
    "plt.plot(lags, strawberries_cc, label='STRAWBERRIES')\n",
    "plt.plot(lags, roses_cc, label='ROSES')\n",
    "plt.title('Cross-Correlation Function Between GIFT_BASKET and Components')\n",
    "plt.xlabel('Lag')\n",
    "plt.ylabel('Correlation')\n",
    "plt.legend()\n",
    "plt.grid(True)\n",
    "plt.show()"
   ]
  },
  {
   "cell_type": "code",
   "execution_count": null,
   "metadata": {},
   "outputs": [],
   "source": [
    "import pandas as pd\n",
    "import numpy as np\n",
    "import matplotlib.pyplot as plt\n",
    "\n",
    "# Assuming 'data' is your DataFrame containing the 'mid_price' for 'GIFT_BASKET'\n",
    "data = prices_day_0[prices_day_0['product'] == 'GIFT_BASKET'].copy()\n",
    "data.set_index('timestamp', inplace=True)\n",
    "\n",
    "# Calculate moving averages\n",
    "data['SMA_10'] = data['mid_price'].rolling(window=10).mean()\n",
    "data['SMA_30'] = data['mid_price'].rolling(window=30).mean()\n",
    "\n",
    "# Calculate RSI\n",
    "delta = data['mid_price'].diff()\n",
    "gain = (delta.where(delta > 0, 0)).fillna(0)\n",
    "loss = (-delta.where(delta < 0, 0)).fillna(0)\n",
    "avg_gain = gain.rolling(window=14).mean()\n",
    "avg_loss = loss.rolling(window=14).mean()\n",
    "rs = avg_gain / avg_loss\n",
    "data['RSI'] = 100 - (100 / (1 + rs))\n",
    "\n",
    "# Calculate Bollinger Bands\n",
    "data['middle_band'] = data['mid_price'].rolling(window=20).mean()\n",
    "data['std_dev'] = data['mid_price'].rolling(window=20).std()\n",
    "data['upper_band'] = data['middle_band'] + (data['std_dev'] * 2)\n",
    "data['lower_band'] = data['middle_band'] - (data['std_dev'] * 2)\n",
    "\n",
    "# Plotting\n",
    "plt.figure(figsize=(14, 7))\n",
    "plt.plot(data['mid_price'], label='Mid Price')\n",
    "plt.plot(data['SMA_10'], label='10-period SMA', linewidth=0.75)\n",
    "plt.plot(data['SMA_30'], label='30-period SMA', linewidth=0.75)\n",
    "plt.plot(data['upper_band'], label='Upper Bollinger Band', linestyle='--')\n",
    "plt.plot(data['lower_band'], label='Lower Bollinger Band', linestyle='--')\n",
    "plt.fill_between(data.index, data['lower_band'], data['upper_band'], color='grey', alpha=0.3)\n",
    "plt.title('Technical Indicators for GIFT_BASKET')\n",
    "plt.xlabel('Timestamp')\n",
    "plt.ylabel('Price')\n",
    "plt.legend()\n",
    "plt.show()\n"
   ]
  },
  {
   "cell_type": "code",
   "execution_count": null,
   "metadata": {},
   "outputs": [],
   "source": [
    "# Assuming you have a DataFrame 'trades' with 'timestamp' and 'quantity'\n",
    "# Summing up quantities per timestamp for simplification\n",
    "volume_data = trades[trades['symbol'] == 'GIFT_BASKET'].groupby('timestamp')['quantity'].sum().reset_index()\n",
    "\n",
    "# Merging with your existing price data\n",
    "data = pd.merge(data, volume_data, on='timestamp', how='left').fillna(0)  # fill missing volumes with 0\n",
    "\n",
    "# Now plotting price with volume\n",
    "fig, (ax1, ax2) = plt.subplots(2, 1, sharex=True, figsize=(14, 10))\n",
    "ax1.plot(data['timestamp'], data['mid_price'], label='Mid Price')\n",
    "ax1.set_title('Price and Volume Chart for GIFT_BASKET')\n",
    "ax1.set_ylabel('Mid Price')\n",
    "ax1.legend()\n",
    "\n",
    "ax2.bar(data['timestamp'], data['quantity'], color='grey', alpha=0.3)\n",
    "ax2.set_xlabel('Timestamp')\n",
    "ax2.set_ylabel('Volume')\n",
    "ax2.legend(['Volume'])\n",
    "plt.show()\n",
    "\n"
   ]
  },
  {
   "cell_type": "code",
   "execution_count": null,
   "metadata": {},
   "outputs": [],
   "source": [
    "# Print the first few rows and describe the datasets for Day 1 and Day 2\n",
    "print(prices_day_1.head())\n",
    "print(prices_day_1.describe())\n",
    "print(trades_day_1.head())\n",
    "print(trades_day_1.describe())\n",
    "\n",
    "print(prices_day_2.head())\n",
    "print(prices_day_2.describe())\n",
    "print(trades_day_2.head())\n",
    "print(trades_day_2.describe())\n"
   ]
  },
  {
   "cell_type": "code",
   "execution_count": null,
   "metadata": {},
   "outputs": [],
   "source": [
    "# Function to plot price trends for a specific product\n",
    "def plot_price_trends(prices, product_name):\n",
    "    product_prices = prices[prices['product'] == product_name]\n",
    "    plt.figure(figsize=(12, 6))\n",
    "    plt.plot(product_prices['timestamp'], product_prices['mid_price'], label=f'Mid Price for {product_name}')\n",
    "    plt.title(f'Price Trends for {product_name} Over Days')\n",
    "    plt.xlabel('Timestamp')\n",
    "    plt.ylabel('Mid Price')\n",
    "    plt.legend()\n",
    "    plt.show()\n",
    "\n",
    "# Example usage:\n",
    "plot_price_trends(prices_day_1, 'CHOCOLATE')\n",
    "plot_price_trends(prices_day_2, 'CHOCOLATE')\n",
    "plot_price_trends(prices_day_1, 'STRAWBERRIES')\n",
    "plot_price_trends(prices_day_2, 'STRAWBERRIES')\n",
    "plot_price_trends(prices_day_1, 'ROSES')\n",
    "plot_price_trends(prices_day_2, 'ROSES')\n",
    "plot_price_trends(prices_day_1, 'GIFT_BASKET')\n",
    "plot_price_trends(prices_day_2, 'GIFT_BASKET')\n",
    "\n",
    "\n"
   ]
  },
  {
   "cell_type": "code",
   "execution_count": null,
   "metadata": {},
   "outputs": [],
   "source": [
    "# Analyze volume from trade data\n",
    "def plot_trade_volumes(trades, product_name):\n",
    "    product_trades = trades[trades['symbol'] == product_name]\n",
    "    plt.figure(figsize=(12, 6))\n",
    "    plt.bar(product_trades['timestamp'], product_trades['quantity'], alpha=0.7)\n",
    "    plt.title(f'Trade Volumes for {product_name} Over Days')\n",
    "    plt.xlabel('Timestamp')\n",
    "    plt.ylabel('Volume')\n",
    "    plt.show()\n",
    "\n",
    "# Example usage:\n",
    "plot_trade_volumes(trades_day_1, 'CHOCOLATE')\n",
    "plot_trade_volumes(trades_day_2, 'CHOCOLATE')\n",
    "plot_trade_volumes(trades_day_1, 'STRAWBERRIES')\n",
    "plot_trade_volumes(trades_day_2, 'STRAWBERRIES')\n",
    "plot_trade_volumes(trades_day_1, 'ROSES')\n",
    "plot_trade_volumes(trades_day_2, 'ROSES')\n",
    "plot_trade_volumes(trades_day_1, 'GIFT_BASKET')\n",
    "plot_trade_volumes(trades_day_2, 'GIFT_BASKET')\n",
    "\n"
   ]
  },
  {
   "cell_type": "code",
   "execution_count": 1,
   "metadata": {},
   "outputs": [],
   "source": [
    "import json\n",
    "\n",
    "def extract_sandbox_logs(filename):\n",
    "    sandbox_logs = []\n",
    "    with open(filename, 'r') as file:\n",
    "        for line in file:\n",
    "            try:\n",
    "                entry = json.loads(line)\n",
    "                if entry['sandboxLog']:  # Assuming empty strings are not of interest\n",
    "                    sandbox_logs.append((entry['timestamp'], entry['sandboxLog']))\n",
    "            except json.JSONDecodeError:\n",
    "                continue  # Skip lines that are not valid JSON\n",
    "    return sandbox_logs\n",
    "\n",
    "sandbox_logs = extract_sandbox_logs('trade.log')\n",
    "for timestamp, log in sandbox_logs:\n",
    "    print(f\"Timestamp: {timestamp}, Log: {log}\")\n",
    "\n"
   ]
  },
  {
   "cell_type": "code",
   "execution_count": 2,
   "metadata": {},
   "outputs": [],
   "source": [
    "def extract_lambda_logs(filename):\n",
    "    lambda_logs = []\n",
    "    with open(filename, 'r') as file:\n",
    "        for line in file:\n",
    "            try:\n",
    "                entry = json.loads(line)\n",
    "                if entry['lambdaLog']:\n",
    "                    lambda_logs.append((entry['timestamp'], entry['lambdaLog']))\n",
    "            except json.JSONDecodeError:\n",
    "                continue\n",
    "    return lambda_logs\n",
    "\n",
    "lambda_logs = extract_lambda_logs('trade.log')\n",
    "for timestamp, log in lambda_logs:\n",
    "    print(f\"Timestamp: {timestamp}, Log: {log}\")\n",
    "\n"
   ]
  },
  {
   "cell_type": "code",
   "execution_count": 3,
   "metadata": {},
   "outputs": [
    {
     "name": "stdout",
     "output_type": "stream",
     "text": [
      "  day  timestamp       product  bid_price_1  bid_volume_1  bid_price_2  \\\n",
      "0   0        0.0     CHOCOLATE       7999.0         111.0          NaN   \n",
      "1   0        0.0   GIFT_BASKET      71348.0          19.0      71347.0   \n",
      "2   0        0.0         ROSES      14999.0          72.0          NaN   \n",
      "3   0        0.0  STRAWBERRIES       3999.0         210.0          NaN   \n",
      "4   0      100.0     CHOCOLATE       8001.0          52.0       8000.0   \n",
      "\n",
      "   bid_volume_2  bid_price_3  bid_volume_3  ask_price_1  ask_volume_1  \\\n",
      "0           NaN          NaN           NaN       8001.0         111.0   \n",
      "1          24.0          NaN           NaN      71362.0          19.0   \n",
      "2           NaN          NaN           NaN      15001.0          72.0   \n",
      "3           NaN          NaN           NaN       4001.0         210.0   \n",
      "4          95.0          NaN           NaN       8002.0         147.0   \n",
      "\n",
      "   ask_price_2  ask_volume_2  ask_price_3  ask_volume_3  mid_price  \\\n",
      "0          NaN           NaN          NaN           NaN     8000.0   \n",
      "1      71363.0          24.0          NaN           NaN    71355.0   \n",
      "2          NaN           NaN          NaN           NaN    15000.0   \n",
      "3          NaN           NaN          NaN           NaN     4000.0   \n",
      "4          NaN           NaN          NaN           NaN     8001.5   \n",
      "\n",
      "   profit_and_loss  \n",
      "0              0.0  \n",
      "1              0.0  \n",
      "2              0.0  \n",
      "3              0.0  \n",
      "4              0.0  \n"
     ]
    },
    {
     "name": "stderr",
     "output_type": "stream",
     "text": [
      "/Users/kanishkaw/opt/anaconda3/lib/python3.8/site-packages/IPython/core/interactiveshell.py:3338: DtypeWarning: Columns (0,2) have mixed types.Specify dtype option on import or set low_memory=False.\n",
      "  if (await self.run_code(code, result,  async_=asy)):\n"
     ]
    }
   ],
   "source": [
    "import pandas as pd\n",
    "from io import StringIO\n",
    "\n",
    "def extract_activity_logs_from_mixed_file(filename):\n",
    "    activity_data = []\n",
    "    collecting = False\n",
    "    with open(filename, 'r') as file:\n",
    "        for line in file:\n",
    "            # Start collecting when CSV header is found\n",
    "            if line.startswith('day;timestamp;product;'):\n",
    "                collecting = True\n",
    "                activity_data.append(line.strip())  # Include the header\n",
    "                continue\n",
    "            # Stop collecting on encountering a JSON-like start or end of file\n",
    "            if line.startswith('{') and collecting:\n",
    "                collecting = False\n",
    "                continue\n",
    "            # Collect data if in collecting mode\n",
    "            if collecting:\n",
    "                activity_data.append(line.strip())\n",
    "    \n",
    "    # Join all collected lines and read as CSV\n",
    "    if activity_data:\n",
    "        data = StringIO('\\n'.join(activity_data))\n",
    "        return pd.read_csv(data, delimiter=';')\n",
    "    else:\n",
    "        return None  # No data found\n",
    "\n",
    "# Usage\n",
    "filename = 'trade.log'\n",
    "activity_logs = extract_activity_logs_from_mixed_file(filename)\n",
    "if activity_logs is not None:\n",
    "    print(activity_logs.head())\n",
    "else:\n",
    "    print(\"No activity logs found in the file.\")\n",
    "\n"
   ]
  },
  {
   "cell_type": "code",
   "execution_count": 4,
   "metadata": {},
   "outputs": [
    {
     "name": "stdout",
     "output_type": "stream",
     "text": [
      "Limit exceedances by product: Series([], Name: product, dtype: int64)\n"
     ]
    },
    {
     "ename": "IndexError",
     "evalue": "index 0 is out of bounds for axis 0 with size 0",
     "output_type": "error",
     "traceback": [
      "\u001b[0;31m---------------------------------------------------------------------------\u001b[0m",
      "\u001b[0;31mIndexError\u001b[0m                                Traceback (most recent call last)",
      "\u001b[0;32m<ipython-input-4-ce213d443f37>\u001b[0m in \u001b[0;36m<module>\u001b[0;34m\u001b[0m\n\u001b[1;32m     14\u001b[0m     \u001b[0mplt\u001b[0m\u001b[0;34m.\u001b[0m\u001b[0mshow\u001b[0m\u001b[0;34m(\u001b[0m\u001b[0;34m)\u001b[0m\u001b[0;34m\u001b[0m\u001b[0;34m\u001b[0m\u001b[0m\n\u001b[1;32m     15\u001b[0m \u001b[0;34m\u001b[0m\u001b[0m\n\u001b[0;32m---> 16\u001b[0;31m \u001b[0manalyze_sandbox_logs\u001b[0m\u001b[0;34m(\u001b[0m\u001b[0msandbox_logs\u001b[0m\u001b[0;34m)\u001b[0m  \u001b[0;31m# Assuming sandbox_logs is a list of tuples (timestamp, log message)\u001b[0m\u001b[0;34m\u001b[0m\u001b[0;34m\u001b[0m\u001b[0m\n\u001b[0m",
      "\u001b[0;32m<ipython-input-4-ce213d443f37>\u001b[0m in \u001b[0;36manalyze_sandbox_logs\u001b[0;34m(sandbox_logs)\u001b[0m\n\u001b[1;32m      8\u001b[0m     \u001b[0mcounts\u001b[0m \u001b[0;34m=\u001b[0m \u001b[0mlimit_exceedances\u001b[0m\u001b[0;34m[\u001b[0m\u001b[0;34m'product'\u001b[0m\u001b[0;34m]\u001b[0m\u001b[0;34m.\u001b[0m\u001b[0mvalue_counts\u001b[0m\u001b[0;34m(\u001b[0m\u001b[0;34m)\u001b[0m\u001b[0;34m\u001b[0m\u001b[0;34m\u001b[0m\u001b[0m\n\u001b[1;32m      9\u001b[0m     \u001b[0mprint\u001b[0m\u001b[0;34m(\u001b[0m\u001b[0;34m\"Limit exceedances by product:\"\u001b[0m\u001b[0;34m,\u001b[0m \u001b[0mcounts\u001b[0m\u001b[0;34m)\u001b[0m\u001b[0;34m\u001b[0m\u001b[0;34m\u001b[0m\u001b[0m\n\u001b[0;32m---> 10\u001b[0;31m     \u001b[0mcounts\u001b[0m\u001b[0;34m.\u001b[0m\u001b[0mplot\u001b[0m\u001b[0;34m(\u001b[0m\u001b[0mkind\u001b[0m\u001b[0;34m=\u001b[0m\u001b[0;34m'bar'\u001b[0m\u001b[0;34m)\u001b[0m\u001b[0;34m\u001b[0m\u001b[0;34m\u001b[0m\u001b[0m\n\u001b[0m\u001b[1;32m     11\u001b[0m     \u001b[0mplt\u001b[0m\u001b[0;34m.\u001b[0m\u001b[0mtitle\u001b[0m\u001b[0;34m(\u001b[0m\u001b[0;34m'Product Limit Exceedances'\u001b[0m\u001b[0;34m)\u001b[0m\u001b[0;34m\u001b[0m\u001b[0;34m\u001b[0m\u001b[0m\n\u001b[1;32m     12\u001b[0m     \u001b[0mplt\u001b[0m\u001b[0;34m.\u001b[0m\u001b[0mxlabel\u001b[0m\u001b[0;34m(\u001b[0m\u001b[0;34m'Product'\u001b[0m\u001b[0;34m)\u001b[0m\u001b[0;34m\u001b[0m\u001b[0;34m\u001b[0m\u001b[0m\n",
      "\u001b[0;32m~/opt/anaconda3/lib/python3.8/site-packages/pandas/plotting/_core.py\u001b[0m in \u001b[0;36m__call__\u001b[0;34m(self, *args, **kwargs)\u001b[0m\n\u001b[1;32m    947\u001b[0m                     \u001b[0mdata\u001b[0m\u001b[0;34m.\u001b[0m\u001b[0mcolumns\u001b[0m \u001b[0;34m=\u001b[0m \u001b[0mlabel_name\u001b[0m\u001b[0;34m\u001b[0m\u001b[0;34m\u001b[0m\u001b[0m\n\u001b[1;32m    948\u001b[0m \u001b[0;34m\u001b[0m\u001b[0m\n\u001b[0;32m--> 949\u001b[0;31m         \u001b[0;32mreturn\u001b[0m \u001b[0mplot_backend\u001b[0m\u001b[0;34m.\u001b[0m\u001b[0mplot\u001b[0m\u001b[0;34m(\u001b[0m\u001b[0mdata\u001b[0m\u001b[0;34m,\u001b[0m \u001b[0mkind\u001b[0m\u001b[0;34m=\u001b[0m\u001b[0mkind\u001b[0m\u001b[0;34m,\u001b[0m \u001b[0;34m**\u001b[0m\u001b[0mkwargs\u001b[0m\u001b[0;34m)\u001b[0m\u001b[0;34m\u001b[0m\u001b[0;34m\u001b[0m\u001b[0m\n\u001b[0m\u001b[1;32m    950\u001b[0m \u001b[0;34m\u001b[0m\u001b[0m\n\u001b[1;32m    951\u001b[0m     \u001b[0m__call__\u001b[0m\u001b[0;34m.\u001b[0m\u001b[0m__doc__\u001b[0m \u001b[0;34m=\u001b[0m \u001b[0m__doc__\u001b[0m\u001b[0;34m\u001b[0m\u001b[0;34m\u001b[0m\u001b[0m\n",
      "\u001b[0;32m~/opt/anaconda3/lib/python3.8/site-packages/pandas/plotting/_matplotlib/__init__.py\u001b[0m in \u001b[0;36mplot\u001b[0;34m(data, kind, **kwargs)\u001b[0m\n\u001b[1;32m     59\u001b[0m             \u001b[0mkwargs\u001b[0m\u001b[0;34m[\u001b[0m\u001b[0;34m\"ax\"\u001b[0m\u001b[0;34m]\u001b[0m \u001b[0;34m=\u001b[0m \u001b[0mgetattr\u001b[0m\u001b[0;34m(\u001b[0m\u001b[0max\u001b[0m\u001b[0;34m,\u001b[0m \u001b[0;34m\"left_ax\"\u001b[0m\u001b[0;34m,\u001b[0m \u001b[0max\u001b[0m\u001b[0;34m)\u001b[0m\u001b[0;34m\u001b[0m\u001b[0;34m\u001b[0m\u001b[0m\n\u001b[1;32m     60\u001b[0m     \u001b[0mplot_obj\u001b[0m \u001b[0;34m=\u001b[0m \u001b[0mPLOT_CLASSES\u001b[0m\u001b[0;34m[\u001b[0m\u001b[0mkind\u001b[0m\u001b[0;34m]\u001b[0m\u001b[0;34m(\u001b[0m\u001b[0mdata\u001b[0m\u001b[0;34m,\u001b[0m \u001b[0;34m**\u001b[0m\u001b[0mkwargs\u001b[0m\u001b[0;34m)\u001b[0m\u001b[0;34m\u001b[0m\u001b[0;34m\u001b[0m\u001b[0m\n\u001b[0;32m---> 61\u001b[0;31m     \u001b[0mplot_obj\u001b[0m\u001b[0;34m.\u001b[0m\u001b[0mgenerate\u001b[0m\u001b[0;34m(\u001b[0m\u001b[0;34m)\u001b[0m\u001b[0;34m\u001b[0m\u001b[0;34m\u001b[0m\u001b[0m\n\u001b[0m\u001b[1;32m     62\u001b[0m     \u001b[0mplot_obj\u001b[0m\u001b[0;34m.\u001b[0m\u001b[0mdraw\u001b[0m\u001b[0;34m(\u001b[0m\u001b[0;34m)\u001b[0m\u001b[0;34m\u001b[0m\u001b[0;34m\u001b[0m\u001b[0m\n\u001b[1;32m     63\u001b[0m     \u001b[0;32mreturn\u001b[0m \u001b[0mplot_obj\u001b[0m\u001b[0;34m.\u001b[0m\u001b[0mresult\u001b[0m\u001b[0;34m\u001b[0m\u001b[0;34m\u001b[0m\u001b[0m\n",
      "\u001b[0;32m~/opt/anaconda3/lib/python3.8/site-packages/pandas/plotting/_matplotlib/core.py\u001b[0m in \u001b[0;36mgenerate\u001b[0;34m(self)\u001b[0m\n\u001b[1;32m    276\u001b[0m         \u001b[0;32mfor\u001b[0m \u001b[0max\u001b[0m \u001b[0;32min\u001b[0m \u001b[0mself\u001b[0m\u001b[0;34m.\u001b[0m\u001b[0maxes\u001b[0m\u001b[0;34m:\u001b[0m\u001b[0;34m\u001b[0m\u001b[0;34m\u001b[0m\u001b[0m\n\u001b[1;32m    277\u001b[0m             \u001b[0mself\u001b[0m\u001b[0;34m.\u001b[0m\u001b[0m_post_plot_logic_common\u001b[0m\u001b[0;34m(\u001b[0m\u001b[0max\u001b[0m\u001b[0;34m,\u001b[0m \u001b[0mself\u001b[0m\u001b[0;34m.\u001b[0m\u001b[0mdata\u001b[0m\u001b[0;34m)\u001b[0m\u001b[0;34m\u001b[0m\u001b[0;34m\u001b[0m\u001b[0m\n\u001b[0;32m--> 278\u001b[0;31m             \u001b[0mself\u001b[0m\u001b[0;34m.\u001b[0m\u001b[0m_post_plot_logic\u001b[0m\u001b[0;34m(\u001b[0m\u001b[0max\u001b[0m\u001b[0;34m,\u001b[0m \u001b[0mself\u001b[0m\u001b[0;34m.\u001b[0m\u001b[0mdata\u001b[0m\u001b[0;34m)\u001b[0m\u001b[0;34m\u001b[0m\u001b[0;34m\u001b[0m\u001b[0m\n\u001b[0m\u001b[1;32m    279\u001b[0m \u001b[0;34m\u001b[0m\u001b[0m\n\u001b[1;32m    280\u001b[0m     \u001b[0;32mdef\u001b[0m \u001b[0m_args_adjust\u001b[0m\u001b[0;34m(\u001b[0m\u001b[0mself\u001b[0m\u001b[0;34m)\u001b[0m\u001b[0;34m:\u001b[0m\u001b[0;34m\u001b[0m\u001b[0;34m\u001b[0m\u001b[0m\n",
      "\u001b[0;32m~/opt/anaconda3/lib/python3.8/site-packages/pandas/plotting/_matplotlib/core.py\u001b[0m in \u001b[0;36m_post_plot_logic\u001b[0;34m(self, ax, data)\u001b[0m\n\u001b[1;32m   1459\u001b[0m         \u001b[0mname\u001b[0m \u001b[0;34m=\u001b[0m \u001b[0mself\u001b[0m\u001b[0;34m.\u001b[0m\u001b[0m_get_index_name\u001b[0m\u001b[0;34m(\u001b[0m\u001b[0;34m)\u001b[0m\u001b[0;34m\u001b[0m\u001b[0;34m\u001b[0m\u001b[0m\n\u001b[1;32m   1460\u001b[0m \u001b[0;34m\u001b[0m\u001b[0m\n\u001b[0;32m-> 1461\u001b[0;31m         \u001b[0ms_edge\u001b[0m \u001b[0;34m=\u001b[0m \u001b[0mself\u001b[0m\u001b[0;34m.\u001b[0m\u001b[0max_pos\u001b[0m\u001b[0;34m[\u001b[0m\u001b[0;36m0\u001b[0m\u001b[0;34m]\u001b[0m \u001b[0;34m-\u001b[0m \u001b[0;36m0.25\u001b[0m \u001b[0;34m+\u001b[0m \u001b[0mself\u001b[0m\u001b[0;34m.\u001b[0m\u001b[0mlim_offset\u001b[0m\u001b[0;34m\u001b[0m\u001b[0;34m\u001b[0m\u001b[0m\n\u001b[0m\u001b[1;32m   1462\u001b[0m         \u001b[0me_edge\u001b[0m \u001b[0;34m=\u001b[0m \u001b[0mself\u001b[0m\u001b[0;34m.\u001b[0m\u001b[0max_pos\u001b[0m\u001b[0;34m[\u001b[0m\u001b[0;34m-\u001b[0m\u001b[0;36m1\u001b[0m\u001b[0;34m]\u001b[0m \u001b[0;34m+\u001b[0m \u001b[0;36m0.25\u001b[0m \u001b[0;34m+\u001b[0m \u001b[0mself\u001b[0m\u001b[0;34m.\u001b[0m\u001b[0mbar_width\u001b[0m \u001b[0;34m+\u001b[0m \u001b[0mself\u001b[0m\u001b[0;34m.\u001b[0m\u001b[0mlim_offset\u001b[0m\u001b[0;34m\u001b[0m\u001b[0;34m\u001b[0m\u001b[0m\n\u001b[1;32m   1463\u001b[0m \u001b[0;34m\u001b[0m\u001b[0m\n",
      "\u001b[0;31mIndexError\u001b[0m: index 0 is out of bounds for axis 0 with size 0"
     ]
    },
    {
     "data": {
      "image/png": "[encoded data removed]",
      "text/plain": [
       "<Figure size 432x288 with 1 Axes>"
      ]
     },
     "metadata": {
      "needs_background": "light"
     },
     "output_type": "display_data"
    }
   ],
   "source": [
    "# Example: Count and plot limit exceedance incidents\n",
    "import pandas as pd\n",
    "import matplotlib.pyplot as plt\n",
    "\n",
    "def analyze_sandbox_logs(sandbox_logs):\n",
    "    limit_exceedances = pd.DataFrame(sandbox_logs, columns=['timestamp', 'log'])\n",
    "    limit_exceedances['product'] = limit_exceedances['log'].apply(lambda x: x.split(' ')[2])\n",
    "    counts = limit_exceedances['product'].value_counts()\n",
    "    print(\"Limit exceedances by product:\", counts)\n",
    "    counts.plot(kind='bar')\n",
    "    plt.title('Product Limit Exceedances')\n",
    "    plt.xlabel('Product')\n",
    "    plt.ylabel('Count')\n",
    "    plt.show()\n",
    "\n",
    "analyze_sandbox_logs(sandbox_logs)  # Assuming sandbox_logs is a list of tuples (timestamp, log message)\n"
   ]
  },
  {
   "cell_type": "code",
   "execution_count": 5,
   "metadata": {},
   "outputs": [
    {
     "name": "stdout",
     "output_type": "stream",
     "text": [
      "          timestamp    bid_price_1   bid_volume_1   bid_price_2  bid_volume_2  \\\n",
      "count  1.200000e+05  120000.000000  120000.000000  54756.000000  54756.000000   \n",
      "mean   1.499950e+06   24287.604442      86.932850  42655.183140     48.106746   \n",
      "std    8.660290e+05   27060.670121      80.227374  30986.095787     46.722094   \n",
      "min    0.000000e+00    3972.000000       1.000000   3972.000000      1.000000   \n",
      "25%    7.499750e+05    6807.750000      18.000000   7979.000000     16.000000   \n",
      "50%    1.499950e+06   11139.000000      62.000000  69671.000000     26.000000   \n",
      "75%    2.249925e+06   28584.500000     133.000000  70976.000000     69.000000   \n",
      "max    2.999900e+06   71581.000000     306.000000  71580.000000    296.000000   \n",
      "\n",
      "        bid_price_3  bid_volume_3    ask_price_1   ask_volume_1   ask_price_2  \\\n",
      "count  20277.000000  20277.000000  120000.000000  120000.000000  54764.000000   \n",
      "mean   70698.971347     22.037777   24291.336700      86.825508  42643.967040   \n",
      "std      600.857039      4.925080   27064.743094      80.115793  31008.370605   \n",
      "min    69339.000000      1.000000    3974.000000       1.000000   3975.000000   \n",
      "25%    70210.000000     18.000000    6809.000000      18.000000   7978.000000   \n",
      "50%    70926.000000     22.000000   11140.500000      62.000000  69684.000000   \n",
      "75%    71153.000000     26.000000   28588.500000     132.000000  70989.000000   \n",
      "max    71579.000000     30.000000   71592.000000     300.000000  71593.000000   \n",
      "\n",
      "       ask_volume_2   ask_price_3  ask_volume_3      mid_price  \\\n",
      "count  54764.000000  20280.000000  20280.000000  120000.000000   \n",
      "mean      48.346414  70714.565828     22.077318   24289.470571   \n",
      "std       47.005344    600.647952      4.884558   27062.706599   \n",
      "min        1.000000  69354.000000      1.000000    3973.000000   \n",
      "25%       16.000000  70229.000000     18.000000    6808.375000   \n",
      "50%       26.000000  70942.000000     22.000000   11139.750000   \n",
      "75%       69.000000  71168.000000     26.000000   28586.500000   \n",
      "max      288.000000  71594.000000     30.000000   71586.500000   \n",
      "\n",
      "       profit_and_loss  \n",
      "count    120000.000000  \n",
      "mean       4589.568592  \n",
      "std       13866.471928  \n",
      "min      -17457.000000  \n",
      "25%           0.000000  \n",
      "50%           0.000000  \n",
      "75%        4144.250000  \n",
      "max       76372.000000  \n"
     ]
    },
    {
     "data": {
      "image/png": "[encoded data removed]",
      "text/plain": [
       "<Figure size 432x288 with 1 Axes>"
      ]
     },
     "metadata": {
      "needs_background": "light"
     },
     "output_type": "display_data"
    }
   ],
   "source": [
    "# Assuming activity_logs is a DataFrame\n",
    "def analyze_activity_logs(activity_logs):\n",
    "    print(activity_logs.describe())\n",
    "    # Plotting price trends\n",
    "    for product in activity_logs['product'].unique():\n",
    "        product_data = activity_logs[activity_logs['product'] == product]\n",
    "        plt.plot(product_data['timestamp'], product_data['mid_price'], label=product)\n",
    "    plt.title('Price Trends by Product')\n",
    "    plt.xlabel('Timestamp')\n",
    "    plt.ylabel('Mid Price')\n",
    "    plt.legend()\n",
    "    plt.show()\n",
    "\n",
    "analyze_activity_logs(activity_logs)  # Assuming activity_logs is already loaded into a DataFrame\n"
   ]
  },
  {
   "cell_type": "code",
   "execution_count": null,
   "metadata": {},
   "outputs": [],
   "source": []
  }
 ],
 "metadata": {
  "kernelspec": {
   "display_name": "Python 3",
   "language": "python",
   "name": "python3"
  },
  "language_info": {
   "codemirror_mode": {
    "name": "ipython",
    "version": 3
   },
   "file_extension": ".py",
   "mimetype": "text/x-python",
   "name": "python",
   "nbconvert_exporter": "python",
   "pygments_lexer": "ipython3",
   "version": "3.8.5"
  }
 },
 "nbformat": 4,
 "nbformat_minor": 4
}
