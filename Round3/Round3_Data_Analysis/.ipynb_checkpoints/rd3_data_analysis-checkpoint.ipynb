{
 "cells": [
  {
   "cell_type": "code",
   "execution_count": 4,
   "metadata": {},
   "outputs": [],
   "source": [
    "import pandas as pd\n",
    "prices_day_0 = pd.read_csv('prices_round_3_day_0.csv', delimiter=';')\n",
    "prices_day_1 = pd.read_csv('prices_round_3_day_1.csv', delimiter=';')\n",
    "prices_day_2 = pd.read_csv('prices_round_3_day_2.csv', delimiter=';')\n",
    "trades_day_0 = pd.read_csv('trades_round_3_day_0_nn.csv', delimiter=';')\n",
    "trades_day_1 = pd.read_csv('trades_round_3_day_1_nn.csv', delimiter=';')\n",
    "trades_day_2 = pd.read_csv('trades_round_3_day_2_nn.csv', delimiter=';')\n"
   ]
  },
  {
   "cell_type": "code",
   "execution_count": null,
   "metadata": {},
   "outputs": [],
   "source": [
    "## Display the first few rows of each dataset\n",
    "print(\"Prices Day 0:\")\n",
    "print(prices_day_0.head())\n",
    "print(\"\\nPrices Day 1:\")\n",
    "print(prices_day_1.head())\n",
    "print(\"\\nPrices Day 2:\")\n",
    "print(prices_day_2.head())\n",
    "print(\"\\nTrades Day 0:\")\n",
    "print(trades_day_0.head())\n",
    "print(\"\\nTrades Day 1:\")\n",
    "print(trades_day_1.head())\n",
    "print(\"\\nTrades Day 2:\")\n",
    "print(trades_day_2.head())\n",
    "\n",
    "# Summary statistics for each dataset\n",
    "print(\"Summary of Prices Day 0:\")\n",
    "print(prices_day_0.describe())\n",
    "print(\"\\nSummary of Trades Day 0:\")\n",
    "print(trades_day_0.describe())\n"
   ]
  },
  {
   "cell_type": "code",
   "execution_count": null,
   "metadata": {},
   "outputs": [],
   "source": [
    "# Check for missing values\n",
    "print(\"Missing values in Prices Day 0:\")\n",
    "print(prices_day_0.isnull().sum())\n",
    "print(\"\\nMissing values in Trades Day 0:\")\n",
    "print(trades_day_0.isnull().sum())\n",
    "\n",
    "# Check for duplicates\n",
    "print(\"Duplicates in Prices Day 0:\")\n",
    "print(prices_day_0.duplicated().sum())\n",
    "print(\"\\nDuplicates in Trades Day 0:\")\n",
    "print(trades_day_0.duplicated().sum())\n"
   ]
  },
  {
   "cell_type": "code",
   "execution_count": null,
   "metadata": {},
   "outputs": [],
   "source": [
    "import matplotlib.pyplot as plt\n",
    "\n",
    "# Function to plot price trends\n",
    "def plot_price_trends(data, product_name):\n",
    "    filtered_data = data[data['product'] == product_name]\n",
    "    plt.figure(figsize=(14, 7))\n",
    "    plt.plot(filtered_data['timestamp'], filtered_data['mid_price'], label=f'Mid Price of {product_name}')\n",
    "    plt.title(f'Price Trend for {product_name}')\n",
    "    plt.xlabel('Timestamp')\n",
    "    plt.ylabel('Mid Price')\n",
    "    plt.legend()\n",
    "    plt.show()\n",
    "\n",
    "# Call this function for each product\n",
    "plot_price_trends(prices_day_0, 'CHOCOLATE')\n",
    "plot_price_trends(prices_day_0, 'STRAWBERRIES')\n",
    "plot_price_trends(prices_day_0, 'ROSES')\n",
    "plot_price_trends(prices_day_0, 'GIFT_BASKET')\n"
   ]
  },
  {
   "cell_type": "code",
   "execution_count": null,
   "metadata": {},
   "outputs": [],
   "source": [
    "# Example of calculating correlations between product prices\n",
    "prices_day_0['CHOCOLATE_price'] = prices_day_0[prices_day_0['product'] == 'CHOCOLATE']['mid_price']\n",
    "prices_day_0['STRAWBERRIES_price'] = prices_day_0[prices_day_0['product'] == 'STRAWBERRIES']['mid_price']\n",
    "prices_day_0['ROSES_price'] = prices_day_0[prices_day_0['product'] == 'ROSES']['mid_price']\n",
    "prices_day_0['GIFT_BASKET_price'] = prices_day_0[prices_day_0['product'] == 'GIFT_BASKET']['mid_price']\n",
    "\n",
    "print(prices_day_0[['CHOCOLATE_price', 'STRAWBERRIES_price', 'ROSES_price', 'GIFT_BASKET_price']].corr())\n"
   ]
  },
  {
   "cell_type": "code",
   "execution_count": null,
   "metadata": {},
   "outputs": [],
   "source": [
    "# Summary statistics of trade volumes for each product\n",
    "print(\"Trade Volume Stats for CHOCOLATE:\")\n",
    "print(trades_day_0[trades_day_0['symbol'] == 'CHOCOLATE']['quantity'].describe())\n",
    "print(\"Trade Volume Stats for STRAWBERRIES:\")\n",
    "print(trades_day_0[trades_day_0['symbol'] == 'STRAWBERRIES']['quantity'].describe())\n",
    "print(\"Trade Volume Stats for ROSES:\")\n",
    "print(trades_day_0[trades_day_0['symbol'] == 'ROSES']['quantity'].describe())\n",
    "print(\"Trade Volume Stats for GIFT_BASKET:\")\n",
    "print(trades_day_0[trades_day_0['symbol'] == 'GIFT_BASKET']['quantity'].describe())\n"
   ]
  },
  {
   "cell_type": "code",
   "execution_count": null,
   "metadata": {},
   "outputs": [],
   "source": [
    "# Create a DataFrame with just the necessary columns\n",
    "data = prices_day_0.pivot(index='timestamp', columns='product', values='mid_price')\n",
    "\n",
    "# Drop rows with any NaN values to align data\n",
    "data.dropna(inplace=True)\n",
    "\n",
    "# Function to compute cross-correlation between two time series\n",
    "def cross_correlation(series1, series2, lag=10):  # Adjust 'lag' to your specific dataset's needs\n",
    "    correlation = [series1.corr(series2.shift(i)) for i in range(-lag, lag+1)]\n",
    "    return correlation\n",
    "\n",
    "# Calculate cross-correlation\n",
    "lag_range = 10  # or any other value that seems appropriate based on your data's frequency\n",
    "chocolate_cc = cross_correlation(data['GIFT_BASKET'], data['CHOCOLATE'], lag=lag_range)\n",
    "strawberries_cc = cross_correlation(data['GIFT_BASKET'], data['STRAWBERRIES'], lag=lag_range)\n",
    "roses_cc = cross_correlation(data['GIFT_BASKET'], data['ROSES'], lag=lag_range)\n",
    "\n",
    "# Plotting cross-correlation results\n",
    "\n",
    "lags = range(-lag_range, lag_range + 1)\n",
    "plt.figure(figsize=(12, 8))\n",
    "plt.plot(lags, chocolate_cc, label='CHOCOLATE')\n",
    "plt.plot(lags, strawberries_cc, label='STRAWBERRIES')\n",
    "plt.plot(lags, roses_cc, label='ROSES')\n",
    "plt.title('Cross-Correlation Function Between GIFT_BASKET and Components')\n",
    "plt.xlabel('Lag')\n",
    "plt.ylabel('Correlation')\n",
    "plt.legend()\n",
    "plt.grid(True)\n",
    "plt.show()"
   ]
  },
  {
   "cell_type": "code",
   "execution_count": null,
   "metadata": {},
   "outputs": [],
   "source": [
    "import pandas as pd\n",
    "import numpy as np\n",
    "import matplotlib.pyplot as plt\n",
    "\n",
    "# Assuming 'data' is your DataFrame containing the 'mid_price' for 'GIFT_BASKET'\n",
    "data = prices_day_0[prices_day_0['product'] == 'GIFT_BASKET'].copy()\n",
    "data.set_index('timestamp', inplace=True)\n",
    "\n",
    "# Calculate moving averages\n",
    "data['SMA_10'] = data['mid_price'].rolling(window=10).mean()\n",
    "data['SMA_30'] = data['mid_price'].rolling(window=30).mean()\n",
    "\n",
    "# Calculate RSI\n",
    "delta = data['mid_price'].diff()\n",
    "gain = (delta.where(delta > 0, 0)).fillna(0)\n",
    "loss = (-delta.where(delta < 0, 0)).fillna(0)\n",
    "avg_gain = gain.rolling(window=14).mean()\n",
    "avg_loss = loss.rolling(window=14).mean()\n",
    "rs = avg_gain / avg_loss\n",
    "data['RSI'] = 100 - (100 / (1 + rs))\n",
    "\n",
    "# Calculate Bollinger Bands\n",
    "data['middle_band'] = data['mid_price'].rolling(window=20).mean()\n",
    "data['std_dev'] = data['mid_price'].rolling(window=20).std()\n",
    "data['upper_band'] = data['middle_band'] + (data['std_dev'] * 2)\n",
    "data['lower_band'] = data['middle_band'] - (data['std_dev'] * 2)\n",
    "\n",
    "# Plotting\n",
    "plt.figure(figsize=(14, 7))\n",
    "plt.plot(data['mid_price'], label='Mid Price')\n",
    "plt.plot(data['SMA_10'], label='10-period SMA', linewidth=0.75)\n",
    "plt.plot(data['SMA_30'], label='30-period SMA', linewidth=0.75)\n",
    "plt.plot(data['upper_band'], label='Upper Bollinger Band', linestyle='--')\n",
    "plt.plot(data['lower_band'], label='Lower Bollinger Band', linestyle='--')\n",
    "plt.fill_between(data.index, data['lower_band'], data['upper_band'], color='grey', alpha=0.3)\n",
    "plt.title('Technical Indicators for GIFT_BASKET')\n",
    "plt.xlabel('Timestamp')\n",
    "plt.ylabel('Price')\n",
    "plt.legend()\n",
    "plt.show()\n"
   ]
  },
  {
   "cell_type": "code",
   "execution_count": null,
   "metadata": {},
   "outputs": [],
   "source": [
    "# Assuming you have a DataFrame 'trades' with 'timestamp' and 'quantity'\n",
    "# Summing up quantities per timestamp for simplification\n",
    "volume_data = trades[trades['symbol'] == 'GIFT_BASKET'].groupby('timestamp')['quantity'].sum().reset_index()\n",
    "\n",
    "# Merging with your existing price data\n",
    "data = pd.merge(data, volume_data, on='timestamp', how='left').fillna(0)  # fill missing volumes with 0\n",
    "\n",
    "# Now plotting price with volume\n",
    "fig, (ax1, ax2) = plt.subplots(2, 1, sharex=True, figsize=(14, 10))\n",
    "ax1.plot(data['timestamp'], data['mid_price'], label='Mid Price')\n",
    "ax1.set_title('Price and Volume Chart for GIFT_BASKET')\n",
    "ax1.set_ylabel('Mid Price')\n",
    "ax1.legend()\n",
    "\n",
    "ax2.bar(data['timestamp'], data['quantity'], color='grey', alpha=0.3)\n",
    "ax2.set_xlabel('Timestamp')\n",
    "ax2.set_ylabel('Volume')\n",
    "ax2.legend(['Volume'])\n",
    "plt.show()\n",
    "\n"
   ]
  },
  {
   "cell_type": "code",
   "execution_count": null,
   "metadata": {},
   "outputs": [],
   "source": [
    "# Print the first few rows and describe the datasets for Day 1 and Day 2\n",
    "print(prices_day_1.head())\n",
    "print(prices_day_1.describe())\n",
    "print(trades_day_1.head())\n",
    "print(trades_day_1.describe())\n",
    "\n",
    "print(prices_day_2.head())\n",
    "print(prices_day_2.describe())\n",
    "print(trades_day_2.head())\n",
    "print(trades_day_2.describe())\n"
   ]
  },
  {
   "cell_type": "code",
   "execution_count": null,
   "metadata": {},
   "outputs": [],
   "source": [
    "# Function to plot price trends for a specific product\n",
    "def plot_price_trends(prices, product_name):\n",
    "    product_prices = prices[prices['product'] == product_name]\n",
    "    plt.figure(figsize=(12, 6))\n",
    "    plt.plot(product_prices['timestamp'], product_prices['mid_price'], label=f'Mid Price for {product_name}')\n",
    "    plt.title(f'Price Trends for {product_name} Over Days')\n",
    "    plt.xlabel('Timestamp')\n",
    "    plt.ylabel('Mid Price')\n",
    "    plt.legend()\n",
    "    plt.show()\n",
    "\n",
    "# Example usage:\n",
    "plot_price_trends(prices_day_1, 'CHOCOLATE')\n",
    "plot_price_trends(prices_day_2, 'CHOCOLATE')\n",
    "plot_price_trends(prices_day_1, 'STRAWBERRIES')\n",
    "plot_price_trends(prices_day_2, 'STRAWBERRIES')\n",
    "plot_price_trends(prices_day_1, 'ROSES')\n",
    "plot_price_trends(prices_day_2, 'ROSES')\n",
    "plot_price_trends(prices_day_1, 'GIFT_BASKET')\n",
    "plot_price_trends(prices_day_2, 'GIFT_BASKET')\n",
    "\n",
    "\n"
   ]
  },
  {
   "cell_type": "code",
   "execution_count": null,
   "metadata": {},
   "outputs": [],
   "source": [
    "# Analyze volume from trade data\n",
    "def plot_trade_volumes(trades, product_name):\n",
    "    product_trades = trades[trades['symbol'] == product_name]\n",
    "    plt.figure(figsize=(12, 6))\n",
    "    plt.bar(product_trades['timestamp'], product_trades['quantity'], alpha=0.7)\n",
    "    plt.title(f'Trade Volumes for {product_name} Over Days')\n",
    "    plt.xlabel('Timestamp')\n",
    "    plt.ylabel('Volume')\n",
    "    plt.show()\n",
    "\n",
    "# Example usage:\n",
    "plot_trade_volumes(trades_day_1, 'CHOCOLATE')\n",
    "plot_trade_volumes(trades_day_2, 'CHOCOLATE')\n",
    "plot_trade_volumes(trades_day_1, 'STRAWBERRIES')\n",
    "plot_trade_volumes(trades_day_2, 'STRAWBERRIES')\n",
    "plot_trade_volumes(trades_day_1, 'ROSES')\n",
    "plot_trade_volumes(trades_day_2, 'ROSES')\n",
    "plot_trade_volumes(trades_day_1, 'GIFT_BASKET')\n",
    "plot_trade_volumes(trades_day_2, 'GIFT_BASKET')\n",
    "\n"
   ]
  },
  {
   "cell_type": "code",
   "execution_count": 7,
   "metadata": {},
   "outputs": [],
   "source": [
    "import json\n",
    "\n",
    "def extract_sandbox_logs(filename):\n",
    "    sandbox_logs = []\n",
    "    with open(filename, 'r') as file:\n",
    "        for line in file:\n",
    "            try:\n",
    "                entry = json.loads(line)\n",
    "                if entry['sandboxLog']:  # Assuming empty strings are not of interest\n",
    "                    sandbox_logs.append((entry['timestamp'], entry['sandboxLog']))\n",
    "            except json.JSONDecodeError:\n",
    "                continue  # Skip lines that are not valid JSON\n",
    "    return sandbox_logs\n",
    "\n",
    "sandbox_logs = extract_sandbox_logs('trade.log')\n",
    "for timestamp, log in sandbox_logs:\n",
    "    print(f\"Timestamp: {timestamp}, Log: {log}\")\n",
    "\n"
   ]
  },
  {
   "cell_type": "code",
   "execution_count": 6,
   "metadata": {},
   "outputs": [
    {
     "ename": "JSONDecodeError",
     "evalue": "Extra data: line 1 column 15 (char 14)",
     "output_type": "error",
     "traceback": [
      "\u001b[0;31m---------------------------------------------------------------------------\u001b[0m",
      "\u001b[0;31mJSONDecodeError\u001b[0m                           Traceback (most recent call last)",
      "\u001b[0;32m<ipython-input-6-89c2c175bcdb>\u001b[0m in \u001b[0;36m<module>\u001b[0;34m\u001b[0m\n\u001b[1;32m     12\u001b[0m \u001b[0;34m\u001b[0m\u001b[0m\n\u001b[1;32m     13\u001b[0m \u001b[0;31m# Usage\u001b[0m\u001b[0;34m\u001b[0m\u001b[0;34m\u001b[0m\u001b[0;34m\u001b[0m\u001b[0m\n\u001b[0;32m---> 14\u001b[0;31m \u001b[0mviolations\u001b[0m \u001b[0;34m=\u001b[0m \u001b[0mextract_violations_with_timestamps\u001b[0m\u001b[0;34m(\u001b[0m\u001b[0mlog_filename\u001b[0m\u001b[0;34m)\u001b[0m\u001b[0;34m\u001b[0m\u001b[0;34m\u001b[0m\u001b[0m\n\u001b[0m\u001b[1;32m     15\u001b[0m \u001b[0;32mfor\u001b[0m \u001b[0mproduct\u001b[0m\u001b[0;34m,\u001b[0m \u001b[0mtimestamps\u001b[0m \u001b[0;32min\u001b[0m \u001b[0mviolations\u001b[0m\u001b[0;34m.\u001b[0m\u001b[0mitems\u001b[0m\u001b[0;34m(\u001b[0m\u001b[0;34m)\u001b[0m\u001b[0;34m:\u001b[0m\u001b[0;34m\u001b[0m\u001b[0;34m\u001b[0m\u001b[0m\n\u001b[1;32m     16\u001b[0m     \u001b[0mprint\u001b[0m\u001b[0;34m(\u001b[0m\u001b[0;34mf\"{product} limit exceeded at timestamps: {timestamps}\"\u001b[0m\u001b[0;34m)\u001b[0m\u001b[0;34m\u001b[0m\u001b[0;34m\u001b[0m\u001b[0m\n",
      "\u001b[0;32m<ipython-input-6-89c2c175bcdb>\u001b[0m in \u001b[0;36mextract_violations_with_timestamps\u001b[0;34m(log_filename)\u001b[0m\n\u001b[1;32m      4\u001b[0m         \u001b[0;32mfor\u001b[0m \u001b[0mline\u001b[0m \u001b[0;32min\u001b[0m \u001b[0mfile\u001b[0m\u001b[0;34m:\u001b[0m\u001b[0;34m\u001b[0m\u001b[0;34m\u001b[0m\u001b[0m\n\u001b[1;32m      5\u001b[0m             \u001b[0;32mif\u001b[0m \u001b[0;34m'exceeded limit'\u001b[0m \u001b[0;32min\u001b[0m \u001b[0mline\u001b[0m\u001b[0;34m:\u001b[0m\u001b[0;34m\u001b[0m\u001b[0;34m\u001b[0m\u001b[0m\n\u001b[0;32m----> 6\u001b[0;31m                 \u001b[0mtimestamp\u001b[0m \u001b[0;34m=\u001b[0m \u001b[0mjson\u001b[0m\u001b[0;34m.\u001b[0m\u001b[0mloads\u001b[0m\u001b[0;34m(\u001b[0m\u001b[0mline\u001b[0m\u001b[0;34m)\u001b[0m\u001b[0;34m[\u001b[0m\u001b[0;34m'timestamp'\u001b[0m\u001b[0;34m]\u001b[0m\u001b[0;34m\u001b[0m\u001b[0;34m\u001b[0m\u001b[0m\n\u001b[0m\u001b[1;32m      7\u001b[0m                 \u001b[0mproduct\u001b[0m \u001b[0;34m=\u001b[0m \u001b[0mre\u001b[0m\u001b[0;34m.\u001b[0m\u001b[0msearch\u001b[0m\u001b[0;34m(\u001b[0m\u001b[0;34mr\"product (\\w+) exceeded\"\u001b[0m\u001b[0;34m,\u001b[0m \u001b[0mline\u001b[0m\u001b[0;34m)\u001b[0m\u001b[0;34m.\u001b[0m\u001b[0mgroup\u001b[0m\u001b[0;34m(\u001b[0m\u001b[0;36m1\u001b[0m\u001b[0;34m)\u001b[0m\u001b[0;34m\u001b[0m\u001b[0;34m\u001b[0m\u001b[0m\n\u001b[1;32m      8\u001b[0m                 \u001b[0;32mif\u001b[0m \u001b[0mproduct\u001b[0m \u001b[0;32mnot\u001b[0m \u001b[0;32min\u001b[0m \u001b[0mviolations\u001b[0m\u001b[0;34m:\u001b[0m\u001b[0;34m\u001b[0m\u001b[0;34m\u001b[0m\u001b[0m\n",
      "\u001b[0;32m~/opt/anaconda3/lib/python3.8/json/__init__.py\u001b[0m in \u001b[0;36mloads\u001b[0;34m(s, cls, object_hook, parse_float, parse_int, parse_constant, object_pairs_hook, **kw)\u001b[0m\n\u001b[1;32m    355\u001b[0m             \u001b[0mparse_int\u001b[0m \u001b[0;32mis\u001b[0m \u001b[0;32mNone\u001b[0m \u001b[0;32mand\u001b[0m \u001b[0mparse_float\u001b[0m \u001b[0;32mis\u001b[0m \u001b[0;32mNone\u001b[0m \u001b[0;32mand\u001b[0m\u001b[0;34m\u001b[0m\u001b[0;34m\u001b[0m\u001b[0m\n\u001b[1;32m    356\u001b[0m             parse_constant is None and object_pairs_hook is None and not kw):\n\u001b[0;32m--> 357\u001b[0;31m         \u001b[0;32mreturn\u001b[0m \u001b[0m_default_decoder\u001b[0m\u001b[0;34m.\u001b[0m\u001b[0mdecode\u001b[0m\u001b[0;34m(\u001b[0m\u001b[0ms\u001b[0m\u001b[0;34m)\u001b[0m\u001b[0;34m\u001b[0m\u001b[0;34m\u001b[0m\u001b[0m\n\u001b[0m\u001b[1;32m    358\u001b[0m     \u001b[0;32mif\u001b[0m \u001b[0mcls\u001b[0m \u001b[0;32mis\u001b[0m \u001b[0;32mNone\u001b[0m\u001b[0;34m:\u001b[0m\u001b[0;34m\u001b[0m\u001b[0;34m\u001b[0m\u001b[0m\n\u001b[1;32m    359\u001b[0m         \u001b[0mcls\u001b[0m \u001b[0;34m=\u001b[0m \u001b[0mJSONDecoder\u001b[0m\u001b[0;34m\u001b[0m\u001b[0;34m\u001b[0m\u001b[0m\n",
      "\u001b[0;32m~/opt/anaconda3/lib/python3.8/json/decoder.py\u001b[0m in \u001b[0;36mdecode\u001b[0;34m(self, s, _w)\u001b[0m\n\u001b[1;32m    338\u001b[0m         \u001b[0mend\u001b[0m \u001b[0;34m=\u001b[0m \u001b[0m_w\u001b[0m\u001b[0;34m(\u001b[0m\u001b[0ms\u001b[0m\u001b[0;34m,\u001b[0m \u001b[0mend\u001b[0m\u001b[0;34m)\u001b[0m\u001b[0;34m.\u001b[0m\u001b[0mend\u001b[0m\u001b[0;34m(\u001b[0m\u001b[0;34m)\u001b[0m\u001b[0;34m\u001b[0m\u001b[0;34m\u001b[0m\u001b[0m\n\u001b[1;32m    339\u001b[0m         \u001b[0;32mif\u001b[0m \u001b[0mend\u001b[0m \u001b[0;34m!=\u001b[0m \u001b[0mlen\u001b[0m\u001b[0;34m(\u001b[0m\u001b[0ms\u001b[0m\u001b[0;34m)\u001b[0m\u001b[0;34m:\u001b[0m\u001b[0;34m\u001b[0m\u001b[0;34m\u001b[0m\u001b[0m\n\u001b[0;32m--> 340\u001b[0;31m             \u001b[0;32mraise\u001b[0m \u001b[0mJSONDecodeError\u001b[0m\u001b[0;34m(\u001b[0m\u001b[0;34m\"Extra data\"\u001b[0m\u001b[0;34m,\u001b[0m \u001b[0ms\u001b[0m\u001b[0;34m,\u001b[0m \u001b[0mend\u001b[0m\u001b[0;34m)\u001b[0m\u001b[0;34m\u001b[0m\u001b[0;34m\u001b[0m\u001b[0m\n\u001b[0m\u001b[1;32m    341\u001b[0m         \u001b[0;32mreturn\u001b[0m \u001b[0mobj\u001b[0m\u001b[0;34m\u001b[0m\u001b[0;34m\u001b[0m\u001b[0m\n\u001b[1;32m    342\u001b[0m \u001b[0;34m\u001b[0m\u001b[0m\n",
      "\u001b[0;31mJSONDecodeError\u001b[0m: Extra data: line 1 column 15 (char 14)"
     ]
    }
   ],
   "source": [
    "def extract_violations_with_timestamps(log_filename):\n",
    "    violations = {}\n",
    "    with open(log_filename, 'r') as file:\n",
    "        for line in file:\n",
    "            if 'exceeded limit' in line:\n",
    "                timestamp = json.loads(line)['timestamp']\n",
    "                product = re.search(r\"product (\\w+) exceeded\", line).group(1)\n",
    "                if product not in violations:\n",
    "                    violations[product] = []\n",
    "                violations[product].append(timestamp)\n",
    "    return violations\n",
    "\n",
    "# Usage\n",
    "violations = extract_violations_with_timestamps(log_filename)\n",
    "for product, timestamps in violations.items():\n",
    "    print(f\"{product} limit exceeded at timestamps: {timestamps}\")\n",
    "\n"
   ]
  },
  {
   "cell_type": "code",
   "execution_count": 5,
   "metadata": {},
   "outputs": [
    {
     "name": "stdout",
     "output_type": "stream",
     "text": [
      "\n",
      "Violations for GIFT_BASKET:\n"
     ]
    },
    {
     "ename": "TypeError",
     "evalue": "'int' object is not iterable",
     "output_type": "error",
     "traceback": [
      "\u001b[0;31m---------------------------------------------------------------------------\u001b[0m",
      "\u001b[0;31mTypeError\u001b[0m                                 Traceback (most recent call last)",
      "\u001b[0;32m<ipython-input-5-5a62c3e152ab>\u001b[0m in \u001b[0;36m<module>\u001b[0;34m\u001b[0m\n\u001b[1;32m     10\u001b[0m \u001b[0;34m\u001b[0m\u001b[0m\n\u001b[1;32m     11\u001b[0m \u001b[0;31m# Assuming you have loaded your price data into a DataFrame called prices_day_0, etc.\u001b[0m\u001b[0;34m\u001b[0m\u001b[0;34m\u001b[0m\u001b[0;34m\u001b[0m\u001b[0m\n\u001b[0;32m---> 12\u001b[0;31m \u001b[0mcorrelate_violations_with_prices\u001b[0m\u001b[0;34m(\u001b[0m\u001b[0mviolations\u001b[0m\u001b[0;34m,\u001b[0m \u001b[0mprices_day_0\u001b[0m\u001b[0;34m)\u001b[0m\u001b[0;34m\u001b[0m\u001b[0;34m\u001b[0m\u001b[0m\n\u001b[0m",
      "\u001b[0;32m<ipython-input-5-5a62c3e152ab>\u001b[0m in \u001b[0;36mcorrelate_violations_with_prices\u001b[0;34m(violations, prices)\u001b[0m\n\u001b[1;32m      2\u001b[0m     \u001b[0;32mfor\u001b[0m \u001b[0mproduct\u001b[0m\u001b[0;34m,\u001b[0m \u001b[0mtimestamps\u001b[0m \u001b[0;32min\u001b[0m \u001b[0mviolations\u001b[0m\u001b[0;34m.\u001b[0m\u001b[0mitems\u001b[0m\u001b[0;34m(\u001b[0m\u001b[0;34m)\u001b[0m\u001b[0;34m:\u001b[0m\u001b[0;34m\u001b[0m\u001b[0;34m\u001b[0m\u001b[0m\n\u001b[1;32m      3\u001b[0m         \u001b[0mprint\u001b[0m\u001b[0;34m(\u001b[0m\u001b[0;34mf\"\\nViolations for {product}:\"\u001b[0m\u001b[0;34m)\u001b[0m\u001b[0;34m\u001b[0m\u001b[0;34m\u001b[0m\u001b[0m\n\u001b[0;32m----> 4\u001b[0;31m         \u001b[0;32mfor\u001b[0m \u001b[0mtimestamp\u001b[0m \u001b[0;32min\u001b[0m \u001b[0mtimestamps\u001b[0m\u001b[0;34m:\u001b[0m\u001b[0;34m\u001b[0m\u001b[0;34m\u001b[0m\u001b[0m\n\u001b[0m\u001b[1;32m      5\u001b[0m             \u001b[0mprice_info\u001b[0m \u001b[0;34m=\u001b[0m \u001b[0mprices\u001b[0m\u001b[0;34m[\u001b[0m\u001b[0;34m(\u001b[0m\u001b[0mprices\u001b[0m\u001b[0;34m[\u001b[0m\u001b[0;34m'product'\u001b[0m\u001b[0;34m]\u001b[0m \u001b[0;34m==\u001b[0m \u001b[0mproduct\u001b[0m\u001b[0;34m)\u001b[0m \u001b[0;34m&\u001b[0m \u001b[0;34m(\u001b[0m\u001b[0mprices\u001b[0m\u001b[0;34m[\u001b[0m\u001b[0;34m'timestamp'\u001b[0m\u001b[0;34m]\u001b[0m \u001b[0;34m==\u001b[0m \u001b[0mtimestamp\u001b[0m\u001b[0;34m)\u001b[0m\u001b[0;34m]\u001b[0m\u001b[0;34m\u001b[0m\u001b[0;34m\u001b[0m\u001b[0m\n\u001b[1;32m      6\u001b[0m             \u001b[0;32mif\u001b[0m \u001b[0;32mnot\u001b[0m \u001b[0mprice_info\u001b[0m\u001b[0;34m.\u001b[0m\u001b[0mempty\u001b[0m\u001b[0;34m:\u001b[0m\u001b[0;34m\u001b[0m\u001b[0;34m\u001b[0m\u001b[0m\n",
      "\u001b[0;31mTypeError\u001b[0m: 'int' object is not iterable"
     ]
    }
   ],
   "source": [
    "def correlate_violations_with_prices(violations, prices):\n",
    "    for product, timestamps in violations.items():\n",
    "        print(f\"\\nViolations for {product}:\")\n",
    "        for timestamp in timestamps:\n",
    "            price_info = prices[(prices['product'] == product) & (prices['timestamp'] == timestamp)]\n",
    "            if not price_info.empty:\n",
    "                print(f\"At {timestamp}, prices were: {price_info[['bid_price_1', 'ask_price_1']].values}\")\n",
    "            else:\n",
    "                print(f\"No price data available at {timestamp}\")\n",
    "\n",
    "# Assuming you have loaded your price data into a DataFrame called prices_day_0, etc.\n",
    "correlate_violations_with_prices(violations, prices_day_0)\n"
   ]
  },
  {
   "cell_type": "code",
   "execution_count": null,
   "metadata": {},
   "outputs": [],
   "source": []
  },
  {
   "cell_type": "code",
   "execution_count": null,
   "metadata": {},
   "outputs": [],
   "source": []
  },
  {
   "cell_type": "code",
   "execution_count": null,
   "metadata": {},
   "outputs": [],
   "source": []
  }
 ],
 "metadata": {
  "kernelspec": {
   "display_name": "Python 3",
   "language": "python",
   "name": "python3"
  },
  "language_info": {
   "codemirror_mode": {
    "name": "ipython",
    "version": 3
   },
   "file_extension": ".py",
   "mimetype": "text/x-python",
   "name": "python",
   "nbconvert_exporter": "python",
   "pygments_lexer": "ipython3",
   "version": "3.8.5"
  }
 },
 "nbformat": 4,
 "nbformat_minor": 4
}
